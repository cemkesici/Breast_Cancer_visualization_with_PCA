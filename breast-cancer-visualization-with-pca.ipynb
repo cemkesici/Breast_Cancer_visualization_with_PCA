{
 "cells": [
  {
   "cell_type": "code",
   "execution_count": 1,
   "id": "ad5e4b68",
   "metadata": {
    "_cell_guid": "b1076dfc-b9ad-4769-8c92-a6c4dae69d19",
    "_uuid": "8f2839f25d086af736a60e9eeb907d3b93b6e0e5",
    "execution": {
     "iopub.execute_input": "2023-08-18T15:34:08.676329Z",
     "iopub.status.busy": "2023-08-18T15:34:08.675980Z",
     "iopub.status.idle": "2023-08-18T15:34:10.168556Z",
     "shell.execute_reply": "2023-08-18T15:34:10.167418Z"
    },
    "papermill": {
     "duration": 1.500516,
     "end_time": "2023-08-18T15:34:10.171178",
     "exception": false,
     "start_time": "2023-08-18T15:34:08.670662",
     "status": "completed"
    },
    "tags": []
   },
   "outputs": [
    {
     "name": "stderr",
     "output_type": "stream",
     "text": [
      "/opt/conda/lib/python3.10/site-packages/scipy/__init__.py:146: UserWarning: A NumPy version >=1.16.5 and <1.23.0 is required for this version of SciPy (detected version 1.23.5\n",
      "  warnings.warn(f\"A NumPy version >={np_minversion} and <{np_maxversion}\"\n"
     ]
    }
   ],
   "source": [
    "import pandas as pd\n",
    "import numpy as np\n",
    "import random\n",
    "import matplotlib.pyplot as plt\n",
    "from sklearn.preprocessing import StandardScaler\n",
    "from sklearn.decomposition import PCA"
   ]
  },
  {
   "cell_type": "code",
   "execution_count": 2,
   "id": "7e225b7c",
   "metadata": {
    "execution": {
     "iopub.execute_input": "2023-08-18T15:34:10.178950Z",
     "iopub.status.busy": "2023-08-18T15:34:10.178563Z",
     "iopub.status.idle": "2023-08-18T15:34:10.213681Z",
     "shell.execute_reply": "2023-08-18T15:34:10.212062Z"
    },
    "papermill": {
     "duration": 0.0418,
     "end_time": "2023-08-18T15:34:10.216252",
     "exception": false,
     "start_time": "2023-08-18T15:34:10.174452",
     "status": "completed"
    },
    "tags": []
   },
   "outputs": [],
   "source": [
    "pd.set_option('display.max_columns',None)\n",
    "pd.set_option('display.width',500)\n",
    "df=pd.read_csv(\"/kaggle/input/breast-cancer-dataset/data.csv\")"
   ]
  },
  {
   "cell_type": "code",
   "execution_count": 3,
   "id": "5a50997f",
   "metadata": {
    "execution": {
     "iopub.execute_input": "2023-08-18T15:34:10.223750Z",
     "iopub.status.busy": "2023-08-18T15:34:10.223347Z",
     "iopub.status.idle": "2023-08-18T15:34:10.269317Z",
     "shell.execute_reply": "2023-08-18T15:34:10.268253Z"
    },
    "papermill": {
     "duration": 0.053052,
     "end_time": "2023-08-18T15:34:10.272282",
     "exception": false,
     "start_time": "2023-08-18T15:34:10.219230",
     "status": "completed"
    },
    "tags": []
   },
   "outputs": [
    {
     "data": {
      "text/html": [
       "<div>\n",
       "<style scoped>\n",
       "    .dataframe tbody tr th:only-of-type {\n",
       "        vertical-align: middle;\n",
       "    }\n",
       "\n",
       "    .dataframe tbody tr th {\n",
       "        vertical-align: top;\n",
       "    }\n",
       "\n",
       "    .dataframe thead th {\n",
       "        text-align: right;\n",
       "    }\n",
       "</style>\n",
       "<table border=\"1\" class=\"dataframe\">\n",
       "  <thead>\n",
       "    <tr style=\"text-align: right;\">\n",
       "      <th></th>\n",
       "      <th>id</th>\n",
       "      <th>diagnosis</th>\n",
       "      <th>radius_mean</th>\n",
       "      <th>texture_mean</th>\n",
       "      <th>perimeter_mean</th>\n",
       "      <th>area_mean</th>\n",
       "      <th>smoothness_mean</th>\n",
       "      <th>compactness_mean</th>\n",
       "      <th>concavity_mean</th>\n",
       "      <th>concave_points_mean</th>\n",
       "      <th>symmetry_mean</th>\n",
       "      <th>fractal_dimension_mean</th>\n",
       "      <th>radius_se</th>\n",
       "      <th>texture_se</th>\n",
       "      <th>perimeter_se</th>\n",
       "      <th>area_se</th>\n",
       "      <th>smoothness_se</th>\n",
       "      <th>compactness_se</th>\n",
       "      <th>concavity_se</th>\n",
       "      <th>concave_points_se</th>\n",
       "      <th>symmetry_se</th>\n",
       "      <th>fractal_dimension_se</th>\n",
       "      <th>radius_worst</th>\n",
       "      <th>texture_worst</th>\n",
       "      <th>perimeter_worst</th>\n",
       "      <th>area_worst</th>\n",
       "      <th>smoothness_worst</th>\n",
       "      <th>compactness_worst</th>\n",
       "      <th>concavity_worst</th>\n",
       "      <th>concave_points_worst</th>\n",
       "      <th>symmetry_worst</th>\n",
       "      <th>fractal_dimension_worst</th>\n",
       "    </tr>\n",
       "  </thead>\n",
       "  <tbody>\n",
       "    <tr>\n",
       "      <th>0</th>\n",
       "      <td>842302</td>\n",
       "      <td>M</td>\n",
       "      <td>17.99</td>\n",
       "      <td>10.38</td>\n",
       "      <td>122.80</td>\n",
       "      <td>1001.0</td>\n",
       "      <td>0.11840</td>\n",
       "      <td>0.27760</td>\n",
       "      <td>0.3001</td>\n",
       "      <td>0.14710</td>\n",
       "      <td>0.2419</td>\n",
       "      <td>0.07871</td>\n",
       "      <td>1.0950</td>\n",
       "      <td>0.9053</td>\n",
       "      <td>8.589</td>\n",
       "      <td>153.40</td>\n",
       "      <td>0.006399</td>\n",
       "      <td>0.04904</td>\n",
       "      <td>0.05373</td>\n",
       "      <td>0.01587</td>\n",
       "      <td>0.03003</td>\n",
       "      <td>0.006193</td>\n",
       "      <td>25.38</td>\n",
       "      <td>17.33</td>\n",
       "      <td>184.60</td>\n",
       "      <td>2019.0</td>\n",
       "      <td>0.1622</td>\n",
       "      <td>0.6656</td>\n",
       "      <td>0.7119</td>\n",
       "      <td>0.2654</td>\n",
       "      <td>0.4601</td>\n",
       "      <td>0.11890</td>\n",
       "    </tr>\n",
       "    <tr>\n",
       "      <th>1</th>\n",
       "      <td>842517</td>\n",
       "      <td>M</td>\n",
       "      <td>20.57</td>\n",
       "      <td>17.77</td>\n",
       "      <td>132.90</td>\n",
       "      <td>1326.0</td>\n",
       "      <td>0.08474</td>\n",
       "      <td>0.07864</td>\n",
       "      <td>0.0869</td>\n",
       "      <td>0.07017</td>\n",
       "      <td>0.1812</td>\n",
       "      <td>0.05667</td>\n",
       "      <td>0.5435</td>\n",
       "      <td>0.7339</td>\n",
       "      <td>3.398</td>\n",
       "      <td>74.08</td>\n",
       "      <td>0.005225</td>\n",
       "      <td>0.01308</td>\n",
       "      <td>0.01860</td>\n",
       "      <td>0.01340</td>\n",
       "      <td>0.01389</td>\n",
       "      <td>0.003532</td>\n",
       "      <td>24.99</td>\n",
       "      <td>23.41</td>\n",
       "      <td>158.80</td>\n",
       "      <td>1956.0</td>\n",
       "      <td>0.1238</td>\n",
       "      <td>0.1866</td>\n",
       "      <td>0.2416</td>\n",
       "      <td>0.1860</td>\n",
       "      <td>0.2750</td>\n",
       "      <td>0.08902</td>\n",
       "    </tr>\n",
       "    <tr>\n",
       "      <th>2</th>\n",
       "      <td>84300903</td>\n",
       "      <td>M</td>\n",
       "      <td>19.69</td>\n",
       "      <td>21.25</td>\n",
       "      <td>130.00</td>\n",
       "      <td>1203.0</td>\n",
       "      <td>0.10960</td>\n",
       "      <td>0.15990</td>\n",
       "      <td>0.1974</td>\n",
       "      <td>0.12790</td>\n",
       "      <td>0.2069</td>\n",
       "      <td>0.05999</td>\n",
       "      <td>0.7456</td>\n",
       "      <td>0.7869</td>\n",
       "      <td>4.585</td>\n",
       "      <td>94.03</td>\n",
       "      <td>0.006150</td>\n",
       "      <td>0.04006</td>\n",
       "      <td>0.03832</td>\n",
       "      <td>0.02058</td>\n",
       "      <td>0.02250</td>\n",
       "      <td>0.004571</td>\n",
       "      <td>23.57</td>\n",
       "      <td>25.53</td>\n",
       "      <td>152.50</td>\n",
       "      <td>1709.0</td>\n",
       "      <td>0.1444</td>\n",
       "      <td>0.4245</td>\n",
       "      <td>0.4504</td>\n",
       "      <td>0.2430</td>\n",
       "      <td>0.3613</td>\n",
       "      <td>0.08758</td>\n",
       "    </tr>\n",
       "    <tr>\n",
       "      <th>3</th>\n",
       "      <td>84348301</td>\n",
       "      <td>M</td>\n",
       "      <td>11.42</td>\n",
       "      <td>20.38</td>\n",
       "      <td>77.58</td>\n",
       "      <td>386.1</td>\n",
       "      <td>0.14250</td>\n",
       "      <td>0.28390</td>\n",
       "      <td>0.2414</td>\n",
       "      <td>0.10520</td>\n",
       "      <td>0.2597</td>\n",
       "      <td>0.09744</td>\n",
       "      <td>0.4956</td>\n",
       "      <td>1.1560</td>\n",
       "      <td>3.445</td>\n",
       "      <td>27.23</td>\n",
       "      <td>0.009110</td>\n",
       "      <td>0.07458</td>\n",
       "      <td>0.05661</td>\n",
       "      <td>0.01867</td>\n",
       "      <td>0.05963</td>\n",
       "      <td>0.009208</td>\n",
       "      <td>14.91</td>\n",
       "      <td>26.50</td>\n",
       "      <td>98.87</td>\n",
       "      <td>567.7</td>\n",
       "      <td>0.2098</td>\n",
       "      <td>0.8663</td>\n",
       "      <td>0.6869</td>\n",
       "      <td>0.2575</td>\n",
       "      <td>0.6638</td>\n",
       "      <td>0.17300</td>\n",
       "    </tr>\n",
       "    <tr>\n",
       "      <th>4</th>\n",
       "      <td>84358402</td>\n",
       "      <td>M</td>\n",
       "      <td>20.29</td>\n",
       "      <td>14.34</td>\n",
       "      <td>135.10</td>\n",
       "      <td>1297.0</td>\n",
       "      <td>0.10030</td>\n",
       "      <td>0.13280</td>\n",
       "      <td>0.1980</td>\n",
       "      <td>0.10430</td>\n",
       "      <td>0.1809</td>\n",
       "      <td>0.05883</td>\n",
       "      <td>0.7572</td>\n",
       "      <td>0.7813</td>\n",
       "      <td>5.438</td>\n",
       "      <td>94.44</td>\n",
       "      <td>0.011490</td>\n",
       "      <td>0.02461</td>\n",
       "      <td>0.05688</td>\n",
       "      <td>0.01885</td>\n",
       "      <td>0.01756</td>\n",
       "      <td>0.005115</td>\n",
       "      <td>22.54</td>\n",
       "      <td>16.67</td>\n",
       "      <td>152.20</td>\n",
       "      <td>1575.0</td>\n",
       "      <td>0.1374</td>\n",
       "      <td>0.2050</td>\n",
       "      <td>0.4000</td>\n",
       "      <td>0.1625</td>\n",
       "      <td>0.2364</td>\n",
       "      <td>0.07678</td>\n",
       "    </tr>\n",
       "  </tbody>\n",
       "</table>\n",
       "</div>"
      ],
      "text/plain": [
       "         id diagnosis  radius_mean  texture_mean  perimeter_mean  area_mean  smoothness_mean  compactness_mean  concavity_mean  concave_points_mean  symmetry_mean  fractal_dimension_mean  radius_se  texture_se  perimeter_se  area_se  smoothness_se  compactness_se  concavity_se  concave_points_se  symmetry_se  fractal_dimension_se  radius_worst  texture_worst  perimeter_worst  area_worst  smoothness_worst  compactness_worst  concavity_worst  concave_points_worst  symmetry_worst  \\\n",
       "0    842302         M        17.99         10.38          122.80     1001.0          0.11840           0.27760          0.3001              0.14710         0.2419                 0.07871     1.0950      0.9053         8.589   153.40       0.006399         0.04904       0.05373            0.01587      0.03003              0.006193         25.38          17.33           184.60      2019.0            0.1622             0.6656           0.7119                0.2654          0.4601   \n",
       "1    842517         M        20.57         17.77          132.90     1326.0          0.08474           0.07864          0.0869              0.07017         0.1812                 0.05667     0.5435      0.7339         3.398    74.08       0.005225         0.01308       0.01860            0.01340      0.01389              0.003532         24.99          23.41           158.80      1956.0            0.1238             0.1866           0.2416                0.1860          0.2750   \n",
       "2  84300903         M        19.69         21.25          130.00     1203.0          0.10960           0.15990          0.1974              0.12790         0.2069                 0.05999     0.7456      0.7869         4.585    94.03       0.006150         0.04006       0.03832            0.02058      0.02250              0.004571         23.57          25.53           152.50      1709.0            0.1444             0.4245           0.4504                0.2430          0.3613   \n",
       "3  84348301         M        11.42         20.38           77.58      386.1          0.14250           0.28390          0.2414              0.10520         0.2597                 0.09744     0.4956      1.1560         3.445    27.23       0.009110         0.07458       0.05661            0.01867      0.05963              0.009208         14.91          26.50            98.87       567.7            0.2098             0.8663           0.6869                0.2575          0.6638   \n",
       "4  84358402         M        20.29         14.34          135.10     1297.0          0.10030           0.13280          0.1980              0.10430         0.1809                 0.05883     0.7572      0.7813         5.438    94.44       0.011490         0.02461       0.05688            0.01885      0.01756              0.005115         22.54          16.67           152.20      1575.0            0.1374             0.2050           0.4000                0.1625          0.2364   \n",
       "\n",
       "   fractal_dimension_worst  \n",
       "0                  0.11890  \n",
       "1                  0.08902  \n",
       "2                  0.08758  \n",
       "3                  0.17300  \n",
       "4                  0.07678  "
      ]
     },
     "execution_count": 3,
     "metadata": {},
     "output_type": "execute_result"
    }
   ],
   "source": [
    "df.head()"
   ]
  },
  {
   "cell_type": "code",
   "execution_count": 4,
   "id": "03750082",
   "metadata": {
    "execution": {
     "iopub.execute_input": "2023-08-18T15:34:10.280774Z",
     "iopub.status.busy": "2023-08-18T15:34:10.280365Z",
     "iopub.status.idle": "2023-08-18T15:34:10.292907Z",
     "shell.execute_reply": "2023-08-18T15:34:10.291591Z"
    },
    "papermill": {
     "duration": 0.019858,
     "end_time": "2023-08-18T15:34:10.295645",
     "exception": false,
     "start_time": "2023-08-18T15:34:10.275787",
     "status": "completed"
    },
    "tags": []
   },
   "outputs": [],
   "source": [
    "y=df[\"diagnosis\"]\n",
    "X=df.drop(['diagnosis','id'],axis=1)"
   ]
  },
  {
   "cell_type": "code",
   "execution_count": 5,
   "id": "fd595467",
   "metadata": {
    "execution": {
     "iopub.execute_input": "2023-08-18T15:34:10.305666Z",
     "iopub.status.busy": "2023-08-18T15:34:10.305256Z",
     "iopub.status.idle": "2023-08-18T15:34:10.311549Z",
     "shell.execute_reply": "2023-08-18T15:34:10.310528Z"
    },
    "papermill": {
     "duration": 0.014018,
     "end_time": "2023-08-18T15:34:10.313500",
     "exception": false,
     "start_time": "2023-08-18T15:34:10.299482",
     "status": "completed"
    },
    "tags": []
   },
   "outputs": [],
   "source": [
    "#Değişkenleri çıkartmak için fonksiyon\n",
    "def create_pca_df(X,y):\n",
    "    sc=StandardScaler().fit_transform(X)\n",
    "    pca=PCA(n_components=2)\n",
    "    pca_fit=pca.fit_transform(X)\n",
    "    pca_df=pd.DataFrame(data=pca_fit,columns=['PC1','PC2'])\n",
    "    final_df=pd.concat([pca_df, pd.DataFrame(y)],axis=1)\n",
    "    return final_df"
   ]
  },
  {
   "cell_type": "code",
   "execution_count": 6,
   "id": "1046194c",
   "metadata": {
    "execution": {
     "iopub.execute_input": "2023-08-18T15:34:10.322385Z",
     "iopub.status.busy": "2023-08-18T15:34:10.322007Z",
     "iopub.status.idle": "2023-08-18T15:34:10.361271Z",
     "shell.execute_reply": "2023-08-18T15:34:10.360313Z"
    },
    "papermill": {
     "duration": 0.046677,
     "end_time": "2023-08-18T15:34:10.363851",
     "exception": false,
     "start_time": "2023-08-18T15:34:10.317174",
     "status": "completed"
    },
    "tags": []
   },
   "outputs": [],
   "source": [
    "pca_df=create_pca_df(X,y)"
   ]
  },
  {
   "cell_type": "code",
   "execution_count": 7,
   "id": "81ae4cab",
   "metadata": {
    "execution": {
     "iopub.execute_input": "2023-08-18T15:34:10.374024Z",
     "iopub.status.busy": "2023-08-18T15:34:10.373573Z",
     "iopub.status.idle": "2023-08-18T15:34:10.385940Z",
     "shell.execute_reply": "2023-08-18T15:34:10.385092Z"
    },
    "papermill": {
     "duration": 0.019781,
     "end_time": "2023-08-18T15:34:10.387887",
     "exception": false,
     "start_time": "2023-08-18T15:34:10.368106",
     "status": "completed"
    },
    "tags": []
   },
   "outputs": [
    {
     "data": {
      "text/html": [
       "<div>\n",
       "<style scoped>\n",
       "    .dataframe tbody tr th:only-of-type {\n",
       "        vertical-align: middle;\n",
       "    }\n",
       "\n",
       "    .dataframe tbody tr th {\n",
       "        vertical-align: top;\n",
       "    }\n",
       "\n",
       "    .dataframe thead th {\n",
       "        text-align: right;\n",
       "    }\n",
       "</style>\n",
       "<table border=\"1\" class=\"dataframe\">\n",
       "  <thead>\n",
       "    <tr style=\"text-align: right;\">\n",
       "      <th></th>\n",
       "      <th>PC1</th>\n",
       "      <th>PC2</th>\n",
       "      <th>diagnosis</th>\n",
       "    </tr>\n",
       "  </thead>\n",
       "  <tbody>\n",
       "    <tr>\n",
       "      <th>0</th>\n",
       "      <td>1160.142574</td>\n",
       "      <td>-293.917544</td>\n",
       "      <td>M</td>\n",
       "    </tr>\n",
       "    <tr>\n",
       "      <th>1</th>\n",
       "      <td>1269.122443</td>\n",
       "      <td>15.630182</td>\n",
       "      <td>M</td>\n",
       "    </tr>\n",
       "    <tr>\n",
       "      <th>2</th>\n",
       "      <td>995.793889</td>\n",
       "      <td>39.156743</td>\n",
       "      <td>M</td>\n",
       "    </tr>\n",
       "    <tr>\n",
       "      <th>3</th>\n",
       "      <td>-407.180803</td>\n",
       "      <td>-67.380320</td>\n",
       "      <td>M</td>\n",
       "    </tr>\n",
       "    <tr>\n",
       "      <th>4</th>\n",
       "      <td>930.341180</td>\n",
       "      <td>189.340742</td>\n",
       "      <td>M</td>\n",
       "    </tr>\n",
       "  </tbody>\n",
       "</table>\n",
       "</div>"
      ],
      "text/plain": [
       "           PC1         PC2 diagnosis\n",
       "0  1160.142574 -293.917544         M\n",
       "1  1269.122443   15.630182         M\n",
       "2   995.793889   39.156743         M\n",
       "3  -407.180803  -67.380320         M\n",
       "4   930.341180  189.340742         M"
      ]
     },
     "execution_count": 7,
     "metadata": {},
     "output_type": "execute_result"
    }
   ],
   "source": [
    "pca_df.head()"
   ]
  },
  {
   "cell_type": "code",
   "execution_count": 8,
   "id": "00778ab8",
   "metadata": {
    "execution": {
     "iopub.execute_input": "2023-08-18T15:34:10.397993Z",
     "iopub.status.busy": "2023-08-18T15:34:10.397610Z",
     "iopub.status.idle": "2023-08-18T15:34:10.407493Z",
     "shell.execute_reply": "2023-08-18T15:34:10.406409Z"
    },
    "papermill": {
     "duration": 0.01734,
     "end_time": "2023-08-18T15:34:10.409502",
     "exception": false,
     "start_time": "2023-08-18T15:34:10.392162",
     "status": "completed"
    },
    "tags": []
   },
   "outputs": [],
   "source": [
    "#Görselleştirme fonksiyonu\n",
    "def plot_pca(df,target):\n",
    "    fig=plt.figure(figsize=(7,5))\n",
    "    ax=fig.add_subplot(1,1,1)\n",
    "    ax.set_xlabel(\"PC1\", fontsize=15)\n",
    "    ax.set_ylabel(\"PC2\", fontsize=15)\n",
    "    ax.set_title(f'{target.capitalize()}',fontsize=20)\n",
    "    \n",
    "    targets=list(df[target].unique())\n",
    "    colors=random.sample([\"r\",\"b\",\"y\",\"g\",\"m\",\"k\",\"c\"],  len(targets))\n",
    "    \n",
    "    for t,color in zip(targets,colors):\n",
    "        indices=df[target]==t\n",
    "        ax.scatter(df.loc[indices,'PC1'],df.loc[indices,'PC2'], c=color, s=50)\n",
    "    ax.legend(targets)\n",
    "    ax.grid()\n",
    "    plt.show()"
   ]
  },
  {
   "cell_type": "code",
   "execution_count": 9,
   "id": "b3fffdb9",
   "metadata": {
    "execution": {
     "iopub.execute_input": "2023-08-18T15:34:10.420386Z",
     "iopub.status.busy": "2023-08-18T15:34:10.420026Z",
     "iopub.status.idle": "2023-08-18T15:34:10.727872Z",
     "shell.execute_reply": "2023-08-18T15:34:10.726870Z"
    },
    "papermill": {
     "duration": 0.315881,
     "end_time": "2023-08-18T15:34:10.730071",
     "exception": false,
     "start_time": "2023-08-18T15:34:10.414190",
     "status": "completed"
    },
    "tags": []
   },
   "outputs": [
    {
     "data": {
      "image/png": "[encoded data removed]",
      "text/plain": [
       "<Figure size 700x500 with 1 Axes>"
      ]
     },
     "metadata": {},
     "output_type": "display_data"
    }
   ],
   "source": [
    "plot_pca(pca_df,'diagnosis')"
   ]
  },
  {
   "cell_type": "code",
   "execution_count": null,
   "id": "2a06dca7",
   "metadata": {
    "papermill": {
     "duration": 0.003992,
     "end_time": "2023-08-18T15:34:10.738029",
     "exception": false,
     "start_time": "2023-08-18T15:34:10.734037",
     "status": "completed"
    },
    "tags": []
   },
   "outputs": [],
   "source": []
  }
 ],
 "metadata": {
  "kernelspec": {
   "display_name": "Python 3",
   "language": "python",
   "name": "python3"
  },
  "language_info": {
   "codemirror_mode": {
    "name": "ipython",
    "version": 3
   },
   "file_extension": ".py",
   "mimetype": "text/x-python",
   "name": "python",
   "nbconvert_exporter": "python",
   "pygments_lexer": "ipython3",
   "version": "3.10.12"
  },
  "papermill": {
   "default_parameters": {},
   "duration": 12.440614,
   "end_time": "2023-08-18T15:34:11.763552",
   "environment_variables": {},
   "exception": null,
   "input_path": "__notebook__.ipynb",
   "output_path": "__notebook__.ipynb",
   "parameters": {},
   "start_time": "2023-08-18T15:33:59.322938",
   "version": "2.4.0"
  }
 },
 "nbformat": 4,
 "nbformat_minor": 5
}
